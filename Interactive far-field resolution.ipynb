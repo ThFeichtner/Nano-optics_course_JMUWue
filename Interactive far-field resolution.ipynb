{
 "cells": [
  {
   "cell_type": "markdown",
   "id": "6b7d036b",
   "metadata": {},
   "source": [
    "# Interactive explanation of Fourier decomposition of 2D objects in optics"
   ]
  },
  {
   "cell_type": "markdown",
   "id": "842d917f",
   "metadata": {},
   "source": [
    "Here some code will be presented to visualise the power of Fourier decomposition in describing the propagating components of light emitted from a 1D or 2D line/surface.\n",
    "\n",
    "Code is subject to steady improvement"
   ]
  },
  {
   "cell_type": "code",
   "execution_count": 1,
   "id": "caa3aa42",
   "metadata": {},
   "outputs": [],
   "source": [
    "from __future__ import print_function\n",
    "from ipywidgets import interact, interactive, fixed, interact_manual\n",
    "import ipywidgets as widgets\n",
    "\n",
    "import matplotlib.pyplot as mpl\n",
    "import numpy as np\n",
    "\n",
    "from scipy.fft import rfft, irfft\n",
    "%matplotlib inline"
   ]
  },
  {
   "cell_type": "markdown",
   "id": "4227b419",
   "metadata": {},
   "source": [
    "We will work here without clear units, length will be given in plain numerics. This is to get some feeling about relations because it is unimportant if one works with radar and wavelength of 3 cm or like in optics with a few hundred nm.\n",
    "\n",
    "In the following a slider allows to change the k-vector and the corresponding wave with its wavelength are given interactively."
   ]
  },
  {
   "cell_type": "code",
   "execution_count": 2,
   "id": "f4cdee84",
   "metadata": {
    "scrolled": false
   },
   "outputs": [
    {
     "data": {
      "application/vnd.jupyter.widget-view+json": {
       "model_id": "7f627d184cf54872ba2c4b6903f11003",
       "version_major": 2,
       "version_minor": 0
      },
      "text/plain": [
       "interactive(children=(FloatSlider(value=0.1, description='k', max=20.0, min=0.1), Output()), _dom_classes=('wi…"
      ]
     },
     "metadata": {},
     "output_type": "display_data"
    }
   ],
   "source": [
    "x = np.arange(-10.0,10.0,0.02)\n",
    "\n",
    "@interact(k=widgets.FloatSlider(min=0.1,max=20.0,step=0.1))\n",
    "def sineplot(k): \n",
    "    fig, ax = mpl.subplots()\n",
    "    ax.plot(x,np.sin(k*x),label=\"wavelength = \"+str(2*np.pi/k))\n",
    "    ax.legend(loc=1)"
   ]
  },
  {
   "cell_type": "markdown",
   "id": "e3b4c9be",
   "metadata": {},
   "source": [
    "Here comes the main magic for the sake of simplicity shown in 1D: a plane wave which hits a line under an angle is seen on this line as a 1D wave. Here, depending on wavelength and angle the wavenumber $k$ is calculated:"
   ]
  },
  {
   "cell_type": "code",
   "execution_count": 3,
   "id": "cd99efb1",
   "metadata": {},
   "outputs": [],
   "source": [
    "def angleToK(angle,wavelength):\n",
    "    return 2*np.pi/wavelength * np.sin(angle*np.pi/180)"
   ]
  },
  {
   "cell_type": "code",
   "execution_count": 4,
   "id": "98a74a34",
   "metadata": {},
   "outputs": [
    {
     "data": {
      "application/vnd.jupyter.widget-view+json": {
       "model_id": "071de6cc8a90450582711374acee6224",
       "version_major": 2,
       "version_minor": 0
      },
      "text/plain": [
       "interactive(children=(FloatSlider(value=45.0, description='angle', max=90.0, min=0.1, step=0.5), FloatSlider(v…"
      ]
     },
     "metadata": {},
     "output_type": "display_data"
    }
   ],
   "source": [
    "@interact_manual(angle=widgets.FloatSlider(min=0.1,max=90,step=0.5,value=45),wavelength=widgets.FloatSlider(min=0.1,max=2,step=0.1,value=1))\n",
    "def OneDWaveAngle(angle,wavelength):\n",
    "    kx=angleToK(angle,wavelength)\n",
    "    ky=angleToK(90-angle,wavelength)\n",
    "    \n",
    "    y = np.arange(-2.0,0.0,0.02)\n",
    "    \n",
    "    waveField = np.zeros([y.size,x.size])\n",
    "    \n",
    "    for j in y:\n",
    "        for i in x:\n",
    "            waveField[np.where(y==j),np.where(x==i)]=np.sin(kx*i+ky*j)\n",
    "    \n",
    "    fig, ax = mpl.subplots()\n",
    "    fields= ax.pcolor(x,y,waveField)\n",
    "    \n",
    "    ax.plot(x,np.sin(kx*x),label=\"kx = \"+str(kx)+\"m$^{-1}$\")\n",
    "    \n",
    "    ax.legend(loc=1)\n",
    "    \n",
    "    fig.colorbar(fields)"
   ]
  },
  {
   "cell_type": "markdown",
   "id": "851ce8a0",
   "metadata": {},
   "source": [
    "And now we want to calculate, how any object in 1D will be imaged by the wavelength up to a given angle. Therefore, we first define an object. Here a double slit."
   ]
  },
  {
   "cell_type": "code",
   "execution_count": 5,
   "id": "28049c37",
   "metadata": {},
   "outputs": [],
   "source": [
    "def aperture(x,width,pos):\n",
    "    return np.heaviside(x - pos + width/2,1) * (1 - np.heaviside(x - pos - width/2,1))"
   ]
  },
  {
   "cell_type": "code",
   "execution_count": 6,
   "id": "650d0490",
   "metadata": {
    "scrolled": false
   },
   "outputs": [
    {
     "data": {
      "text/plain": [
       "[<matplotlib.lines.Line2D at 0x204a31f9e20>]"
      ]
     },
     "execution_count": 6,
     "metadata": {},
     "output_type": "execute_result"
    },
    {
     "data": {
      "image/png": "[encoded data removed]",
      "text/plain": [
       "<Figure size 640x480 with 1 Axes>"
      ]
     },
     "metadata": {},
     "output_type": "display_data"
    }
   ],
   "source": [
    "mpl.plot(x,aperture(x,3,-4)+aperture(x,3,4))"
   ]
  },
  {
   "cell_type": "markdown",
   "id": "98a93957",
   "metadata": {},
   "source": [
    "Then we calculate via fast fourier transformation the spectrum of the given object:"
   ]
  },
  {
   "cell_type": "code",
   "execution_count": 7,
   "id": "4c9fd277",
   "metadata": {
    "scrolled": true
   },
   "outputs": [
    {
     "data": {
      "application/vnd.jupyter.widget-view+json": {
       "model_id": "92766944b85043a1a600204aaf241dc0",
       "version_major": 2,
       "version_minor": 0
      },
      "text/plain": [
       "interactive(children=(IntSlider(value=100, description='f_max', max=501, min=1), Output()), _dom_classes=('wid…"
      ]
     },
     "metadata": {},
     "output_type": "display_data"
    }
   ],
   "source": [
    "spectrum = rfft(aperture(x,3,-4)+aperture(x,3,4))\n",
    "\n",
    "@interact(f_max=widgets.IntSlider(min=1,max=spectrum.size,value=100))\n",
    "def plotSpec(f_max):\n",
    "    mpl.plot(np.real(spectrum[0:f_max]))\n",
    "    mpl.show()"
   ]
  },
  {
   "cell_type": "markdown",
   "id": "07cf6737",
   "metadata": {},
   "source": [
    "And finally we filter the inverse Fourier transformation to be zero from any frequency not included in the range of illumination angles we define:"
   ]
  },
  {
   "cell_type": "code",
   "execution_count": 9,
   "id": "f27f1427",
   "metadata": {},
   "outputs": [
    {
     "data": {
      "application/vnd.jupyter.widget-view+json": {
       "model_id": "f28dbc7cb412425b98df1d898c9f758d",
       "version_major": 2,
       "version_minor": 0
      },
      "text/plain": [
       "interactive(children=(FloatSlider(value=45.0, description='angle', max=90.0), FloatSlider(value=0.25, descript…"
      ]
     },
     "metadata": {},
     "output_type": "display_data"
    }
   ],
   "source": [
    "@interact_manual(angle=(0,90,0.1), wavelength=(0.05,0.5,0.05))\n",
    "def farFieldNA(angle,wavelength):\n",
    "    cutSpectrum = np.array(spectrum)\n",
    "    cutSpectrum[int(angleToK(angle,wavelength)):]=0\n",
    "    \n",
    "    fig, ax = mpl.subplots()\n",
    "    \n",
    "    ax.plot(x,irfft(cutSpectrum))\n",
    "    \n",
    "    mpl.show()"
   ]
  },
  {
   "cell_type": "code",
   "execution_count": null,
   "id": "10ac4590",
   "metadata": {},
   "outputs": [],
   "source": []
  }
 ],
 "metadata": {
  "kernelspec": {
   "display_name": "Python 3 (ipykernel)",
   "language": "python",
   "name": "python3"
  },
  "language_info": {
   "codemirror_mode": {
    "name": "ipython",
    "version": 3
   },
   "file_extension": ".py",
   "mimetype": "text/x-python",
   "name": "python",
   "nbconvert_exporter": "python",
   "pygments_lexer": "ipython3",
   "version": "3.9.16"
  }
 },
 "nbformat": 4,
 "nbformat_minor": 5
}
